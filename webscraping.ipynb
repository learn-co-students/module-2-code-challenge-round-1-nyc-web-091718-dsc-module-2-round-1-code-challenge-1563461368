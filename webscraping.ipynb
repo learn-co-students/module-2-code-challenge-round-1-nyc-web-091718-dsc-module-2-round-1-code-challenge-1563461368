{
 "cells": [
  {
   "cell_type": "markdown",
   "metadata": {},
   "source": [
    "## Webscraping"
   ]
  },
  {
   "cell_type": "markdown",
   "metadata": {},
   "source": [
    "Use BeautifulSoup to get quotes, authors, and tags from [Quotes to Read](http://quotes.toscrape.com/)"
   ]
  },
  {
   "cell_type": "code",
   "execution_count": 1,
   "metadata": {},
   "outputs": [],
   "source": [
    "from bs4 import BeautifulSoup\n",
    "import requests\n",
    "import re\n",
    "import pandas as pd"
   ]
  },
  {
   "cell_type": "code",
   "execution_count": 2,
   "metadata": {},
   "outputs": [],
   "source": [
    "# Might not include in the starter code \n",
    "\n",
    "# Make a get request to retrieve the page\n",
    "html_page = requests.get('http://quotes.toscrape.com/') \n",
    "# Pass the page contents to beautiful soup for parsing\n",
    "soup = BeautifulSoup(html_page.content, 'html.parser')"
   ]
  },
  {
   "cell_type": "code",
   "execution_count": 102,
   "metadata": {},
   "outputs": [
    {
     "data": {
      "text/plain": [
       "'<'"
      ]
     },
     "execution_count": 102,
     "metadata": {},
     "output_type": "execute_result"
    }
   ],
   "source": [
    "# this is just showing the page\n",
    "soup.prettify()[0]"
   ]
  },
  {
   "cell_type": "markdown",
   "metadata": {},
   "source": [
    "1. Write a function to get all the authors from the [homepage](http://quotes.toscrape.com/)"
   ]
  },
  {
   "cell_type": "code",
   "execution_count": null,
   "metadata": {},
   "outputs": [],
   "source": [
    "def authors(url):\n",
    "    '''\n",
    "    input: url\n",
    "    \n",
    "    return: a dictionary of of authors and their urls\n",
    "            {'author_1':url_of_author_1, 'author_2':url_of_author_2 ...}\n",
    "    '''\n",
    "    pass"
   ]
  },
  {
   "cell_type": "code",
   "execution_count": 99,
   "metadata": {},
   "outputs": [],
   "source": [
    "def authors(url):\n",
    "    # Make a get request to retrieve the page\n",
    "    a_html_page = requests.get(url) \n",
    "    # Pass the page contents to beautiful soup for parsing\n",
    "    a_soup = BeautifulSoup(a_html_page.content, 'html.parser')\n",
    "    authors = a_soup.find_all('small')\n",
    "    author_dictionary = {}\n",
    "    for author in authors:\n",
    "        author_dictionary[author.text] = author.find_next_siblings()[0].get('href')\n",
    "    return author_dictionary"
   ]
  },
  {
   "cell_type": "code",
   "execution_count": 101,
   "metadata": {},
   "outputs": [
    {
     "data": {
      "text/plain": [
       "{'Albert Einstein': '/author/Albert-Einstein',\n",
       " 'J.K. Rowling': '/author/J-K-Rowling',\n",
       " 'Jane Austen': '/author/Jane-Austen',\n",
       " 'Marilyn Monroe': '/author/Marilyn-Monroe',\n",
       " 'André Gide': '/author/Andre-Gide',\n",
       " 'Thomas A. Edison': '/author/Thomas-A-Edison',\n",
       " 'Eleanor Roosevelt': '/author/Eleanor-Roosevelt',\n",
       " 'Steve Martin': '/author/Steve-Martin'}"
      ]
     },
     "execution_count": 101,
     "metadata": {},
     "output_type": "execute_result"
    }
   ],
   "source": [
    "authors('http://quotes.toscrape.com/')"
   ]
  },
  {
   "cell_type": "markdown",
   "metadata": {},
   "source": [
    "2. Write a function to get the tags of all the quotes on a page\n"
   ]
  },
  {
   "cell_type": "code",
   "execution_count": null,
   "metadata": {},
   "outputs": [],
   "source": [
    "def tags(url):\n",
    "    '''\n",
    "    input: url\n",
    "    \n",
    "    return: a dictionary of of tags and their urls\n",
    "            {'tag_1':url_of_tag_1, 'tag_2':url_of_tag_2 ...}\n",
    "    '''\n",
    "    pass"
   ]
  },
  {
   "cell_type": "markdown",
   "metadata": {},
   "source": [
    "3. Write a function to get all of the quotes on a set number of pages, use the functions `authors` and `tags` to get the authors and tags for all the quotes."
   ]
  },
  {
   "cell_type": "code",
   "execution_count": null,
   "metadata": {},
   "outputs": [],
   "source": [
    "def get_some_quotes(url, number_of_pages=None):\n",
    "    '''\n",
    "    input: url, number of pages to scrap (just scrape the home page if no argument is passed in)\n",
    "    \n",
    "    return: a dictionary of quotes with their attributes\n",
    "    \n",
    "    '''\n",
    "    pass"
   ]
  },
  {
   "cell_type": "markdown",
   "metadata": {},
   "source": [
    "^ could put this in a mongo database??"
   ]
  },
  {
   "cell_type": "markdown",
   "metadata": {},
   "source": [
    "4. From the dictionary of author get all the author's birthday and birthplace"
   ]
  },
  {
   "cell_type": "code",
   "execution_count": 10,
   "metadata": {},
   "outputs": [],
   "source": [
    "# maybe use the author function to get the url for the author's page\n",
    "def from_where():\n",
    "    pass"
   ]
  },
  {
   "cell_type": "code",
   "execution_count": null,
   "metadata": {},
   "outputs": [],
   "source": []
  }
 ],
 "metadata": {
  "kernelspec": {
   "display_name": "Python 3",
   "language": "python",
   "name": "python3"
  },
  "language_info": {
   "codemirror_mode": {
    "name": "ipython",
    "version": 3
   },
   "file_extension": ".py",
   "mimetype": "text/x-python",
   "name": "python",
   "nbconvert_exporter": "python",
   "pygments_lexer": "ipython3",
   "version": "3.7.1"
  }
 },
 "nbformat": 4,
 "nbformat_minor": 2
}
