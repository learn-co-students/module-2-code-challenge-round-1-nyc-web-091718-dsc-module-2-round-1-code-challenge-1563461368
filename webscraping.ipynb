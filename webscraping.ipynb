{
 "cells": [
  {
   "cell_type": "markdown",
   "metadata": {},
   "source": [
    "## Webscraping"
   ]
  },
  {
   "cell_type": "markdown",
   "metadata": {},
   "source": [
    "Use BeautifulSoup to get quotes, authors, and tags from [Quotes to Read](http://quotes.toscrape.com/)"
   ]
  },
  {
   "cell_type": "code",
   "execution_count": 2,
   "metadata": {},
   "outputs": [],
   "source": [
    "from bs4 import BeautifulSoup\n",
    "import requests\n",
    "import re\n",
    "import pandas as pd"
   ]
  },
  {
   "cell_type": "markdown",
   "metadata": {},
   "source": [
    "1. Write a function to get all the authors from the [homepage](http://quotes.toscrape.com/)"
   ]
  },
  {
   "cell_type": "code",
   "execution_count": 5,
   "metadata": {},
   "outputs": [],
   "source": [
    "def authors(url):\n",
    "    '''\n",
    "    input: url\n",
    "    \n",
    "    return: a dictionary of of authors and their urls\n",
    "            {'author_1':'url_of_author_1', 'author_2':'url_of_author_2' ...}\n",
    "    '''\n",
    "    pass"
   ]
  },
  {
   "cell_type": "code",
   "execution_count": 30,
   "metadata": {},
   "outputs": [],
   "source": [
    "# answer\n",
    "\n",
    "def authors(url):\n",
    "    # Make a get request to retrieve the page\n",
    "    html_page = requests.get(url) \n",
    "    # Pass the page contents to beautiful soup for parsing\n",
    "    soup = BeautifulSoup(html_page.content, 'html.parser')\n",
    "    authors = soup.find_all('small')\n",
    "    author_dictionary = {}\n",
    "    for author in authors:\n",
    "        author_dictionary[author.text] = author.find_next_siblings()[0].get('href')\n",
    "    return author_dictionary"
   ]
  },
  {
   "cell_type": "code",
   "execution_count": 7,
   "metadata": {},
   "outputs": [
    {
     "data": {
      "text/plain": [
       "{'Albert Einstein': '/author/Albert-Einstein',\n",
       " 'J.K. Rowling': '/author/J-K-Rowling',\n",
       " 'Jane Austen': '/author/Jane-Austen',\n",
       " 'Marilyn Monroe': '/author/Marilyn-Monroe',\n",
       " 'André Gide': '/author/Andre-Gide',\n",
       " 'Thomas A. Edison': '/author/Thomas-A-Edison',\n",
       " 'Eleanor Roosevelt': '/author/Eleanor-Roosevelt',\n",
       " 'Steve Martin': '/author/Steve-Martin'}"
      ]
     },
     "execution_count": 7,
     "metadata": {},
     "output_type": "execute_result"
    }
   ],
   "source": [
    "# test the function\n",
    "authors('http://quotes.toscrape.com/')"
   ]
  },
  {
   "cell_type": "code",
   "execution_count": 8,
   "metadata": {},
   "outputs": [
    {
     "data": {
      "text/plain": [
       "{'Pablo Neruda': '/author/Pablo-Neruda',\n",
       " 'Ralph Waldo Emerson': '/author/Ralph-Waldo-Emerson',\n",
       " 'Mother Teresa': '/author/Mother-Teresa',\n",
       " 'Garrison Keillor': '/author/Garrison-Keillor',\n",
       " 'Jim Henson': '/author/Jim-Henson',\n",
       " 'Dr. Seuss': '/author/Dr-Seuss',\n",
       " 'Albert Einstein': '/author/Albert-Einstein',\n",
       " 'J.K. Rowling': '/author/J-K-Rowling',\n",
       " 'Bob Marley': '/author/Bob-Marley'}"
      ]
     },
     "execution_count": 8,
     "metadata": {},
     "output_type": "execute_result"
    }
   ],
   "source": [
    "# test the function\n",
    "authors('http://quotes.toscrape.com/page/3')"
   ]
  },
  {
   "cell_type": "markdown",
   "metadata": {},
   "source": [
    "2. Write a function to get the tags of each quote on a page\n",
    "\n",
    "#### Might include the instructions to use the class tag... there are a couple ways to get this"
   ]
  },
  {
   "cell_type": "code",
   "execution_count": 110,
   "metadata": {},
   "outputs": [],
   "source": [
    "def tags(url):\n",
    "    '''\n",
    "    input: url\n",
    "    \n",
    "    return: a list of dictionaries of of tags and their urls\n",
    "            [{'quote_tags':[list_of_quote_1_tags]}, {'quote_tags':[list_of_quote_1_tags]}]\n",
    "            \n",
    "    '''\n",
    "    pass"
   ]
  },
  {
   "cell_type": "code",
   "execution_count": 23,
   "metadata": {},
   "outputs": [],
   "source": [
    "# answer\n",
    "# this answer uses the class below, you can also use the tags themselves\n",
    "# soup.find_all(class_ = 'keywords')\n",
    "\n",
    "def tags(url):\n",
    "    # Make a get request to retrieve the page\n",
    "    html_page = requests.get(url) \n",
    "    # Pass the page contents to beautiful soup for parsing\n",
    "    soup = BeautifulSoup(html_page.content, 'html.parser')\n",
    "    \n",
    "    list_of_tags = []\n",
    "    for tag in soup.find_all(class_ = 'keywords'):\n",
    "        quote_tags = {}\n",
    "        quote_tags['quote_tags'] = tag['content'].split(',')\n",
    "        list_of_tags.append(quote_tags)\n",
    "    return list_of_tags"
   ]
  },
  {
   "cell_type": "code",
   "execution_count": 26,
   "metadata": {},
   "outputs": [
    {
     "data": {
      "text/plain": [
       "[{'quote_tags': ['change', 'deep-thoughts', 'thinking', 'world']},\n",
       " {'quote_tags': ['abilities', 'choices']},\n",
       " {'quote_tags': ['inspirational', 'life', 'live', 'miracle', 'miracles']},\n",
       " {'quote_tags': ['aliteracy', 'books', 'classic', 'humor']},\n",
       " {'quote_tags': ['be-yourself', 'inspirational']},\n",
       " {'quote_tags': ['adulthood', 'success', 'value']},\n",
       " {'quote_tags': ['life', 'love']},\n",
       " {'quote_tags': ['edison', 'failure', 'inspirational', 'paraphrased']},\n",
       " {'quote_tags': ['misattributed-eleanor-roosevelt']},\n",
       " {'quote_tags': ['humor', 'obvious', 'simile']}]"
      ]
     },
     "execution_count": 26,
     "metadata": {},
     "output_type": "execute_result"
    }
   ],
   "source": [
    "tags('http://quotes.toscrape.com/')"
   ]
  },
  {
   "cell_type": "markdown",
   "metadata": {},
   "source": [
    "3. Write a function to get all of the quotes on a set number of pages"
   ]
  },
  {
   "cell_type": "code",
   "execution_count": null,
   "metadata": {},
   "outputs": [],
   "source": [
    "def get_some_quotes(url, number_of_pages=None):\n",
    "    '''\n",
    "    input: url, number of pages to scrap (just scrape the home page if no argument is passed in)\n",
    "    \n",
    "    return: a list of dictionaries of quotes with their attributes\n",
    "            [{'quote':'quote_1_text', 'author':'url_of_author_1', 'quote_tags':[list_of_quote_1_tags]}, \n",
    "            {'quote':'quote_2_text', 'author':'url_of_author_2', 'quote_tags':[list_of_quote_2_tags]}, ...]\n",
    "    '''\n",
    "    pass"
   ]
  },
  {
   "cell_type": "code",
   "execution_count": null,
   "metadata": {},
   "outputs": [],
   "source": [
    "# answer\n",
    "\n",
    "def get_some_quotes(url, number_of_pages=None):\n",
    "    # Make a get request to retrieve the page\n",
    "    html_page = requests.get(url) \n",
    "    # Pass the page contents to beautiful soup for parsing\n",
    "    soup = BeautifulSoup(html_page.content, 'html.parser')\n",
    "    \n",
    "    tags(url)"
   ]
  },
  {
   "cell_type": "code",
   "execution_count": null,
   "metadata": {},
   "outputs": [],
   "source": []
  },
  {
   "cell_type": "markdown",
   "metadata": {},
   "source": [
    "4. From the dictionary of author get all the author's birthday and birthplace"
   ]
  },
  {
   "cell_type": "code",
   "execution_count": 10,
   "metadata": {},
   "outputs": [],
   "source": [
    "# maybe use the author function to get the url for the author's page\n",
    "def from_where():\n",
    "    pass"
   ]
  },
  {
   "cell_type": "markdown",
   "metadata": {},
   "source": [
    "\n",
    "\n",
    "`get_some_quotes` is what we will import into the mongodb\n"
   ]
  },
  {
   "cell_type": "markdown",
   "metadata": {},
   "source": [
    "## NoSQL "
   ]
  },
  {
   "cell_type": "code",
   "execution_count": null,
   "metadata": {},
   "outputs": [],
   "source": [
    "import pymongo"
   ]
  },
  {
   "cell_type": "markdown",
   "metadata": {},
   "source": [
    "1. Create a mongo database"
   ]
  },
  {
   "cell_type": "code",
   "execution_count": null,
   "metadata": {},
   "outputs": [],
   "source": []
  },
  {
   "cell_type": "markdown",
   "metadata": {},
   "source": [
    "2. Add the quotes from `get_some_quotes` or use the json file "
   ]
  },
  {
   "cell_type": "code",
   "execution_count": null,
   "metadata": {},
   "outputs": [],
   "source": []
  },
  {
   "cell_type": "markdown",
   "metadata": {},
   "source": [
    "3. Update the quote..."
   ]
  },
  {
   "cell_type": "code",
   "execution_count": null,
   "metadata": {},
   "outputs": [],
   "source": []
  },
  {
   "cell_type": "markdown",
   "metadata": {},
   "source": [
    "4. delete the first quote from the database"
   ]
  },
  {
   "cell_type": "code",
   "execution_count": null,
   "metadata": {},
   "outputs": [],
   "source": []
  }
 ],
 "metadata": {
  "kernelspec": {
   "display_name": "Python 3",
   "language": "python",
   "name": "python3"
  },
  "language_info": {
   "codemirror_mode": {
    "name": "ipython",
    "version": 3
   },
   "file_extension": ".py",
   "mimetype": "text/x-python",
   "name": "python",
   "nbconvert_exporter": "python",
   "pygments_lexer": "ipython3",
   "version": "3.7.1"
  }
 },
 "nbformat": 4,
 "nbformat_minor": 2
}
