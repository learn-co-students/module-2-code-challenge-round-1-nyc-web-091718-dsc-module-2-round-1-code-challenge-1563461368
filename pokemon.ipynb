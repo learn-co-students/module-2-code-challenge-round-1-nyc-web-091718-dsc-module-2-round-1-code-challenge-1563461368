{
 "cells": [
  {
   "cell_type": "markdown",
   "metadata": {},
   "source": [
    "# Module 2 Assessment\n",
    "\n",
    "Welcome to your Mod 2 Assessment. You will be tested for your understanding of concepts and ability to solve problems that have been covered in class and in the curriculum.\n",
    "\n",
    "Use any libraries you want to solve the problems in the assessment.\n",
    "\n",
    "You will have up to two hours to complete this assessment.\n",
    "\n",
    "The sections of the assessment are:\n",
    "\n",
    "- SQL and Relational Databases\n",
    "- Object Oriented Programming\n",
    "- Accessing Data Through APIs\n",
    "- HTML, CSS and Web Scraping\n",
    "- Other Database Structures (MongoDB)"
   ]
  },
  {
   "cell_type": "code",
   "execution_count": 1,
   "metadata": {},
   "outputs": [],
   "source": [
    "# import the necessary libraries\n",
    "\n",
    "import requests\n",
    "import json\n",
    "import pandas as pd\n",
    "import sqlite3"
   ]
  },
  {
   "cell_type": "markdown",
   "metadata": {},
   "source": [
    "## Accessing Data Through APIs\n",
    "\n",
    "In this section we'll be using PokeAPI to get data on Pokemon. Let's first define functions to get information from the API. Provided below is a URL that will get you started with the first 151 Pokemon! Run the cell below to see what we get."
   ]
  },
  {
   "cell_type": "code",
   "execution_count": null,
   "metadata": {
    "scrolled": true
   },
   "outputs": [],
   "source": [
    "url = 'https://pokeapi.co/api/v2/pokemon/?limit=151'\n",
    "results = requests.get(url).json()['results']\n",
    "results"
   ]
  },
  {
   "cell_type": "markdown",
   "metadata": {},
   "source": [
    "[Read the documentation here](https://pokeapi.co/) for information on navigating this API and use the API to obtain data to answer the following questions.\n",
    "\n",
    "1. For any **one** Pokemon, retrive the following information in a dictionary format with the following keys:\n",
    "    - ID\n",
    "    - Name\n",
    "    - Base experience\n",
    "    - Weight\n",
    "    - Height\n",
    "    - Types\n",
    "    - Abilities\n",
    "    \n",
    "For `Types` and `Abilities`, you will want to write helper functions to have each attribute just be a list of types and a list of abilities.\n",
    "\n",
    "- i.e. `bulbasaur.types` should return `['poison', 'grass']`\n",
    "    \n",
    "    \n",
    "2. Get the same information for the first **151** Pokemon as a list of dictionaries ordered by Pokemon ID. Print the first and last elements of the dictionary. (Hint: Use pagination)"
   ]
  },
  {
   "cell_type": "code",
   "execution_count": null,
   "metadata": {},
   "outputs": [],
   "source": [
    "\"\"\" SOLUTION: data for one Pokemon \"\"\"\n",
    "\n",
    "# previewing the result for one pokemon\n",
    "\n",
    "requests.get(results[0]['url']).json()\n"
   ]
  },
  {
   "cell_type": "code",
   "execution_count": null,
   "metadata": {},
   "outputs": [],
   "source": [
    "def typelist(types):\n",
    "    result = []\n",
    "    \n",
    "    # iterating through the nested dict and appending to the empty list:\n",
    "    \n",
    "    for i in range(len(types)):\n",
    "        result.append(types[i]['type']['name'])\n",
    "    return result"
   ]
  },
  {
   "cell_type": "code",
   "execution_count": null,
   "metadata": {},
   "outputs": [],
   "source": [
    "def abilitylist(abilities):\n",
    "    result = []\n",
    "    \n",
    "    # iterating through the nested dict and appending to the empty list:\n",
    "    \n",
    "    for i in range(len(abilities)):\n",
    "        result.append(abilities[i]['ability']['name'])\n",
    "    return result"
   ]
  },
  {
   "cell_type": "code",
   "execution_count": null,
   "metadata": {},
   "outputs": [],
   "source": [
    "def get_pokedata(url):\n",
    "    \n",
    "    # getting full results for one pokemon\n",
    "    info = requests.get(url).json() \n",
    "    \n",
    "    # list of keys with values that don't need editing\n",
    "    keys = ['id', 'name', 'base_experience', 'weight', 'height'] \n",
    "    data = {k: info[k] for k in keys} # dictionary comprehension\n",
    "    \n",
    "    # using the two helper functions to add types and abilities\n",
    "    data['types'] = typelist(info['types'])\n",
    "    data['abilities'] = abilitylist(info['abilities'])\n",
    "    \n",
    "    return data"
   ]
  },
  {
   "cell_type": "code",
   "execution_count": null,
   "metadata": {},
   "outputs": [],
   "source": [
    "\n",
    "\n",
    "get_pokedata('https://pokeapi.co/api/v2/pokemon/1/')"
   ]
  },
  {
   "cell_type": "code",
   "execution_count": null,
   "metadata": {},
   "outputs": [],
   "source": [
    "\"\"\" SOLUTION: data for 151 Pokemon \"\"\"\n",
    "\n",
    "# list comprehension to get a list of just URLs\n",
    "urls = [r['url'] for r in results]\n",
    "\n",
    "# list comprehension with the previous function to get full data\n",
    "pokedata = [get_pokedata(url) for url in urls]\n"
   ]
  },
  {
   "cell_type": "code",
   "execution_count": null,
   "metadata": {},
   "outputs": [],
   "source": [
    "# printing first and last elements\n",
    "\n",
    "print(pokedata[0], pokedata[-1])"
   ]
  },
  {
   "cell_type": "code",
   "execution_count": null,
   "metadata": {},
   "outputs": [],
   "source": []
  },
  {
   "cell_type": "code",
   "execution_count": null,
   "metadata": {},
   "outputs": [],
   "source": []
  },
  {
   "cell_type": "code",
   "execution_count": null,
   "metadata": {},
   "outputs": [],
   "source": []
  },
  {
   "cell_type": "markdown",
   "metadata": {},
   "source": [
    "## Object Oriented Programming\n",
    "\n",
    "We're going to use the data gathered in the previous section on APIs for this section on Object Oriented Programming to instantiate Pokemon objects and write instance methods.\n",
    "\n",
    "### Creating a Class\n",
    "\n",
    "1. Create a class called `Pokemon` with an `__init__` method to instantiate the following attributes:\n",
    "    - ID\n",
    "    - Name\n",
    "    - Base experience\n",
    "    - Weight\n",
    "    - Height\n",
    "    - Types\n",
    "    - Abilities\n",
    "    \n",
    "    \n",
    "### Instantiating Objects\n",
    "\n",
    "2. Using the data you obtained from the API, instantiate the first, fourth and seventh Pokemon. Assign them to the variables `bulbasaur`, `charmander` and `squirtle`.\n"
   ]
  },
  {
   "cell_type": "code",
   "execution_count": null,
   "metadata": {},
   "outputs": [],
   "source": [
    "# if you were unable to get the data from the API in the right format,\n",
    "# this JSON file has the list of dictionaries\n",
    "\n",
    "with open('data/pokemon.json') as f:  \n",
    "    pokelist = json.load(f)"
   ]
  },
  {
   "cell_type": "code",
   "execution_count": null,
   "metadata": {},
   "outputs": [],
   "source": [
    "class Pokemon:\n",
    "    \n",
    "    def __init__(self, ID, name, exp, weight, height, types, abilities):\n",
    "        self.ID = ID\n",
    "        self.name = name\n",
    "        self.exp = exp\n",
    "        self.weight = weight\n",
    "        self.height = height\n",
    "        self.types = types\n",
    "        self.abilities = abilities\n",
    "        \n",
    "    def bmi(self):\n",
    "        return (self.weight*0.1)/(self.height*0.1)**2\n",
    "        \n"
   ]
  },
  {
   "cell_type": "code",
   "execution_count": null,
   "metadata": {},
   "outputs": [],
   "source": [
    "\"\"\" SOLUTION: instantiating three Pokemon \"\"\"\n",
    "\n",
    "# function to instantiate a Pokemon\n",
    "def instantiate_pokemon(info):\n",
    "    pokemon = Pokemon(info['id'], \n",
    "                      info['name'], \n",
    "                      info['base_experience'], \n",
    "                      info['weight'], \n",
    "                      info['height'], \n",
    "                      info['types'],\n",
    "                      info['abilities'])\n",
    "    return pokemon\n",
    "\n",
    "\"\"\"\n",
    "can also be done manually:\n",
    "\n",
    "bulbasaur = Pokemon(1, 'bulbasaur', 64, 69, 7, ['poison', 'grass'], ['chlorophyll', 'overgrow'])\n",
    "\n",
    "etc.\n",
    "\n",
    "\"\"\""
   ]
  },
  {
   "cell_type": "code",
   "execution_count": null,
   "metadata": {},
   "outputs": [],
   "source": [
    "bulbasaur = instantiate_pokemon(pokedata[0])\n",
    "ivysaur = instantiate_pokemon(pokedata[3])\n",
    "venusaur = instantiate_pokemon(pokedata[6])"
   ]
  },
  {
   "cell_type": "code",
   "execution_count": null,
   "metadata": {},
   "outputs": [],
   "source": [
    "# run this cell to test and check your code\n",
    "# you may need to edit the attribute variable names if you named them differently!\n",
    "\n",
    "def print_pokeinfo(pokemon_object):\n",
    "    o = pokemon_object\n",
    "    print('ID: ' + str(o.ID) + '\\n' +\n",
    "          'Name: ' + o.name.title() + '\\n' +\n",
    "          'Base experience: ' + str(o.exp) + '\\n' +\n",
    "          'Weight: ' + str(o.weight) + '\\n' +\n",
    "          'Height: ' + str(o.height) + '\\n' +\n",
    "          'Types: ' + str(o.types) + '\\n' +\n",
    "          'Abilities: ' + str(o.abilities) + '\\n'\n",
    "         )\n",
    "    \n",
    "print_pokeinfo(bulbasaur)\n",
    "print_pokeinfo(ivysaur)\n",
    "print_pokeinfo(venusaur)"
   ]
  },
  {
   "cell_type": "markdown",
   "metadata": {},
   "source": [
    "### Instance Methods\n",
    "\n",
    "3. Write an instance method within the class `Pokemon` to find the BMI of a Pokemon. BMI is defined by $\\frac{weight}{height^{2}}$ with weight in **kilograms** and height in **meters**. The height and weight data of Pokemon from the API is in **decimeters** and **hectograms** respectively.\n",
    "\n",
    "\n",
    "    1 decimeter = 0.1 meters\n",
    "    1 hectogram = 0.1 kilograms"
   ]
  },
  {
   "cell_type": "code",
   "execution_count": null,
   "metadata": {},
   "outputs": [],
   "source": [
    "# run this cell to test and check your code\n",
    "# you probably have to rerun the code to instantiate your objects\n",
    "\n",
    "bulbasaur = Pokemon.all_pokemon[0]\n",
    "\n",
    "print(\"{}'s BMI is {}.\".format(bulbasaur.name.title(), bulbasaur.bmi())) # 14.08"
   ]
  },
  {
   "cell_type": "markdown",
   "metadata": {},
   "source": [
    "## SQL and Relational Databases\n",
    "\n",
    "For this section, we've put the Pokemon data into SQL tables. You won't need to use your list of dictionaries or the JSON file for this section. The schema of `pokemon.db` is as follows:\n",
    "\n",
    "(insert dbdiagram)\n",
    "\n",
    "Assign your SQL queries as strings to the variables `q1`, `q2`, etc. and run the cells at the end of this section to print your results as Pandas DataFrames.\n",
    "\n",
    "- q1: query all columns from `Pokemon` the Pokemon that have base_experience above 200\n",
    "- q2: query the id, name, type1 and type2 of Pokemon that have **water** types\n"
   ]
  },
  {
   "cell_type": "code",
   "execution_count": 2,
   "metadata": {},
   "outputs": [],
   "source": [
    "cnx = sqlite3.connect('data/pokemon.db')"
   ]
  },
  {
   "cell_type": "code",
   "execution_count": null,
   "metadata": {
    "scrolled": true
   },
   "outputs": [],
   "source": [
    "q1 = \"select * from pokemon where base_experience > 150\"\n",
    "pd.read_sql(q1, cnx)"
   ]
  },
  {
   "cell_type": "code",
   "execution_count": null,
   "metadata": {
    "scrolled": true
   },
   "outputs": [],
   "source": [
    "q2 = \"select id, name, type1, type2 from pokemon where type1 == 'water' or type2 == 'water'\"\n",
    "pd.read_sql(q2, cnx)"
   ]
  },
  {
   "cell_type": "code",
   "execution_count": null,
   "metadata": {},
   "outputs": [],
   "source": [
    "q3 = \"select * from pokemon join types\"\n",
    "pd.read_sql(q3, cnx)"
   ]
  },
  {
   "cell_type": "code",
   "execution_count": null,
   "metadata": {},
   "outputs": [],
   "source": []
  },
  {
   "cell_type": "code",
   "execution_count": null,
   "metadata": {},
   "outputs": [],
   "source": []
  }
 ],
 "metadata": {
  "kernelspec": {
   "display_name": "Python 3",
   "language": "python",
   "name": "python3"
  },
  "language_info": {
   "codemirror_mode": {
    "name": "ipython",
    "version": 3
   },
   "file_extension": ".py",
   "mimetype": "text/x-python",
   "name": "python",
   "nbconvert_exporter": "python",
   "pygments_lexer": "ipython3",
   "version": "3.7.2"
  }
 },
 "nbformat": 4,
 "nbformat_minor": 2
}
